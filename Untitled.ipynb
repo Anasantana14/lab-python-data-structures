{
 "cells": [
  {
   "cell_type": "code",
   "execution_count": 15,
   "id": "b946621c",
   "metadata": {},
   "outputs": [
    {
     "name": "stdout",
     "output_type": "stream",
     "text": [
      "Enter the quantity of t-shirt available: 10\n",
      "Enter the quantity of mug available: 20\n",
      "Enter the quantity of hat available: 30\n",
      "Enter the quantity of book available: 40\n",
      "Enter the quantity of keychain available: 50\n",
      "{'t-shirt': 10, 'mug': 20, 'hat': 30, 'book': 40, 'keychain': 50}\n"
     ]
    }
   ],
   "source": [
    "products = [\"t-shirt\", \"mug\", \"hat\", \"book\", \"keychain\"]\n",
    "inventory = {}\n",
    "\n",
    "for product in products:\n",
    "    quantity = int(input(f\"Enter the quantity of {product} available: \"))\n",
    "    inventory[product] = quantity \n",
    "print(inventory)\n",
    "    \n",
    "# Create an empty set called customer_orders\n",
    "customer_orders = set()"
   ]
  },
  {
   "cell_type": "code",
   "execution_count": 16,
   "id": "d1cc3b4d",
   "metadata": {},
   "outputs": [
    {
     "name": "stdout",
     "output_type": "stream",
     "text": [
      "Enter the name of a product: mug\n",
      "Enter the name of a product: hat\n",
      "Enter the name of a product: book\n",
      "Customer orders: {'book', 'hat', 'mug'}\n"
     ]
    }
   ],
   "source": [
    "\n",
    "while products == [\"t-shirt\", \"mug\", \"hat\", \"book\", \"keychain\"] and len(customer_orders) <3:\n",
    "    product_name = input(\"Enter the name of a product: \")\n",
    "    if product_name in products:\n",
    "        customer_orders.add(product_name)\n",
    "    else:\n",
    "        print(\"Invalid product name. Try again\")\n",
    "print(\"Customer orders:\", customer_orders)    \n"
   ]
  },
  {
   "cell_type": "code",
   "execution_count": null,
   "id": "1e3803a6",
   "metadata": {},
   "outputs": [],
   "source": [
    "product_name = input(\"Enter the name of a product: \")\n",
    "    if product_name in products:\n",
    "        customer_orders.add(product_name)\n",
    "    else:\n",
    "        print(\"Invalid product name. Try again\")\n",
    "print(\"Customer orders:\", customer_orders)"
   ]
  }
 ],
 "metadata": {
  "kernelspec": {
   "display_name": "Python 3 (ipykernel)",
   "language": "python",
   "name": "python3"
  },
  "language_info": {
   "codemirror_mode": {
    "name": "ipython",
    "version": 3
   },
   "file_extension": ".py",
   "mimetype": "text/x-python",
   "name": "python",
   "nbconvert_exporter": "python",
   "pygments_lexer": "ipython3",
   "version": "3.10.9"
  }
 },
 "nbformat": 4,
 "nbformat_minor": 5
}
